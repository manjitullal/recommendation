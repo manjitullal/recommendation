{
  "nbformat": 4,
  "nbformat_minor": 0,
  "metadata": {
    "kernelspec": {
      "display_name": "Python 3",
      "language": "python",
      "name": "python3"
    },
    "language_info": {
      "codemirror_mode": {
        "name": "ipython",
        "version": 3
      },
      "file_extension": ".py",
      "mimetype": "text/x-python",
      "name": "python",
      "nbconvert_exporter": "python",
      "pygments_lexer": "ipython3",
      "version": "3.7.3"
    },
    "colab": {
      "name": "Content & Collaborative Recommendation",
      "provenance": [],
      "include_colab_link": true
    }
  },
  "cells": [
    {
      "cell_type": "markdown",
      "metadata": {
        "id": "view-in-github",
        "colab_type": "text"
      },
      "source": [
        "<a href=\"https://colab.research.google.com/github/manjitullal/recommendation/blob/main/Content_%26_Collaborative_Recommendation.ipynb\" target=\"_parent\"><img src=\"https://colab.research.google.com/assets/colab-badge.svg\" alt=\"Open In Colab\"/></a>"
      ]
    },
    {
      "cell_type": "code",
      "metadata": {
        "id": "90JsqSXsbKNU"
      },
      "source": [
        "import pandas as pd\n",
        "import numpy as np"
      ],
      "execution_count": null,
      "outputs": []
    },
    {
      "cell_type": "code",
      "metadata": {
        "colab": {
          "base_uri": "https://localhost:8080/"
        },
        "id": "1o4_ytNrMxkD",
        "outputId": "c22ebb15-eab7-4ade-fe1a-a05a771491de"
      },
      "source": [
        "from google.colab import drive\n",
        "drive.mount('/content/drive', force_remount=True)"
      ],
      "execution_count": null,
      "outputs": [
        {
          "output_type": "stream",
          "text": [
            "Mounted at /content/drive\n"
          ],
          "name": "stdout"
        }
      ]
    },
    {
      "cell_type": "code",
      "metadata": {
        "id": "3FUeD0PgbKNV",
        "colab": {
          "base_uri": "https://localhost:8080/"
        },
        "outputId": "9820907a-444c-4c3a-bd8a-02166c7d0f84"
      },
      "source": [
        "%timeit\n",
        "\n",
        "path = '/content/drive/MyDrive/datasets/movies/'\n",
        "\n",
        "ratings = pd.read_csv(path + 'ratings_small.csv')\n",
        "credits = pd.read_csv(path + 'credits.csv')\n",
        "keywords = pd.read_csv(path + 'keywords.csv')\n",
        "links = pd.read_csv(path + 'links.csv')\n",
        "movie_metadata = pd.read_csv(path + 'movies_metadata.csv')"
      ],
      "execution_count": null,
      "outputs": [
        {
          "output_type": "stream",
          "text": [
            "/usr/local/lib/python3.6/dist-packages/IPython/core/interactiveshell.py:2718: DtypeWarning: Columns (10) have mixed types.Specify dtype option on import or set low_memory=False.\n",
            "  interactivity=interactivity, compiler=compiler, result=result)\n"
          ],
          "name": "stderr"
        }
      ]
    },
    {
      "cell_type": "code",
      "metadata": {
        "id": "sA9YyW7LbKNX",
        "colab": {
          "base_uri": "https://localhost:8080/"
        },
        "outputId": "142d64ca-3f2f-4e46-b415-c2d58314b724"
      },
      "source": [
        "ratings.columns"
      ],
      "execution_count": null,
      "outputs": [
        {
          "output_type": "execute_result",
          "data": {
            "text/plain": [
              "Index(['userId', 'movieId', 'rating', 'timestamp'], dtype='object')"
            ]
          },
          "metadata": {
            "tags": []
          },
          "execution_count": 18
        }
      ]
    },
    {
      "cell_type": "code",
      "metadata": {
        "id": "4Rb3sspMJSyT",
        "colab": {
          "base_uri": "https://localhost:8080/"
        },
        "outputId": "29e2a0ec-87ca-430a-bdfb-8ed253c63412"
      },
      "source": [
        "unique_users = len(ratings.userId.unique()) # unique users\n",
        "average_user_ratings = ratings.groupby(by=['userId'])['movieId'].count() # average number of movies rated by a user \n",
        "\n",
        "print(\"Unique users\", unique_users)\n",
        "print(\"Average number of movies rated by the users\", round(average_user_ratings.mean()))"
      ],
      "execution_count": null,
      "outputs": [
        {
          "output_type": "stream",
          "text": [
            "Unique users 671\n",
            "Average number of movies rated by the users 149\n"
          ],
          "name": "stdout"
        }
      ]
    },
    {
      "cell_type": "code",
      "metadata": {
        "colab": {
          "base_uri": "https://localhost:8080/",
          "height": 282
        },
        "id": "7sYveSryLJP-",
        "outputId": "86d76f74-5b5b-4a7f-d181-ef02486a3d38"
      },
      "source": [
        "import matplotlib.pyplot as plt\n",
        "plt.hist(average_user_ratings)\n",
        "plt.ylabel(\"Number of Users\")\n",
        "plt.xlabel(\"Number of Ratings\")\n",
        "plt.show()"
      ],
      "execution_count": null,
      "outputs": [
        {
          "output_type": "display_data",
          "data": {
            "image/png": "[encoded data removed]",
            "text/plain": [
              "<Figure size 432x288 with 1 Axes>"
            ]
          },
          "metadata": {
            "tags": [],
            "needs_background": "light"
          }
        }
      ]
    },
    {
      "cell_type": "code",
      "metadata": {
        "colab": {
          "base_uri": "https://localhost:8080/",
          "height": 282
        },
        "id": "kY0TYlVSuSxJ",
        "outputId": "473faf48-39f8-4378-ddae-c2d0d8e30df3"
      },
      "source": [
        "plt.hist(ratings.rating)\n",
        "plt.xlabel(\"Ratings\")\n",
        "plt.ylabel(\"Number of Ratings\")\n",
        "plt.show()"
      ],
      "execution_count": null,
      "outputs": [
        {
          "output_type": "display_data",
          "data": {
            "image/png": "[encoded data removed]",
            "text/plain": [
              "<Figure size 432x288 with 1 Axes>"
            ]
          },
          "metadata": {
            "tags": [],
            "needs_background": "light"
          }
        }
      ]
    },
    {
      "cell_type": "code",
      "metadata": {
        "id": "y-mvB4bcbKNY",
        "colab": {
          "base_uri": "https://localhost:8080/"
        },
        "outputId": "b041324d-acb7-4f40-8ade-eb6dad5c6507"
      },
      "source": [
        "credits.columns"
      ],
      "execution_count": null,
      "outputs": [
        {
          "output_type": "execute_result",
          "data": {
            "text/plain": [
              "Index(['cast', 'crew', 'id'], dtype='object')"
            ]
          },
          "metadata": {
            "tags": []
          },
          "execution_count": 11
        }
      ]
    },
    {
      "cell_type": "code",
      "metadata": {
        "id": "NqcBFz4ZbKNY",
        "colab": {
          "base_uri": "https://localhost:8080/"
        },
        "outputId": "ec1bfd30-9637-4dac-9103-541cf0340f1d"
      },
      "source": [
        "keywords.columns"
      ],
      "execution_count": null,
      "outputs": [
        {
          "output_type": "execute_result",
          "data": {
            "text/plain": [
              "Index(['id', 'keywords'], dtype='object')"
            ]
          },
          "metadata": {
            "tags": []
          },
          "execution_count": 12
        }
      ]
    },
    {
      "cell_type": "code",
      "metadata": {
        "id": "sADmxJpEbKNY",
        "colab": {
          "base_uri": "https://localhost:8080/"
        },
        "outputId": "40ec771a-6dc5-4c19-b8f7-89beb43b4dfd"
      },
      "source": [
        "links.columns"
      ],
      "execution_count": null,
      "outputs": [
        {
          "output_type": "execute_result",
          "data": {
            "text/plain": [
              "Index(['movieId', 'imdbId', 'tmdbId'], dtype='object')"
            ]
          },
          "metadata": {
            "tags": []
          },
          "execution_count": 19
        }
      ]
    },
    {
      "cell_type": "code",
      "metadata": {
        "id": "0kL_lRftbKNY",
        "colab": {
          "base_uri": "https://localhost:8080/"
        },
        "outputId": "91adf17f-5726-45f5-8fd8-9239f6af40e0"
      },
      "source": [
        "movie_metadata.columns"
      ],
      "execution_count": null,
      "outputs": [
        {
          "output_type": "execute_result",
          "data": {
            "text/plain": [
              "Index(['adult', 'belongs_to_collection', 'budget', 'genres', 'homepage', 'id',\n",
              "       'imdb_id', 'original_language', 'original_title', 'overview',\n",
              "       'popularity', 'poster_path', 'production_companies',\n",
              "       'production_countries', 'release_date', 'revenue', 'runtime',\n",
              "       'spoken_languages', 'status', 'tagline', 'title', 'video',\n",
              "       'vote_average', 'vote_count'],\n",
              "      dtype='object')"
            ]
          },
          "metadata": {
            "tags": []
          },
          "execution_count": 20
        }
      ]
    },
    {
      "cell_type": "code",
      "metadata": {
        "id": "L3iocB98bKNZ",
        "colab": {
          "base_uri": "https://localhost:8080/"
        },
        "outputId": "2cb079cd-6758-4ed8-f1cb-5afbeb884557"
      },
      "source": [
        "movie_metadata_changed = movie_metadata.copy()\n",
        "movie_metadata_changed.isna().sum()"
      ],
      "execution_count": null,
      "outputs": [
        {
          "output_type": "execute_result",
          "data": {
            "text/plain": [
              "adult                        0\n",
              "belongs_to_collection    40972\n",
              "budget                       0\n",
              "genres                       0\n",
              "homepage                 37684\n",
              "id                           0\n",
              "imdb_id                     17\n",
              "original_language           11\n",
              "original_title               0\n",
              "overview                   954\n",
              "popularity                   5\n",
              "poster_path                386\n",
              "production_companies         3\n",
              "production_countries         3\n",
              "release_date                87\n",
              "revenue                      6\n",
              "runtime                    263\n",
              "spoken_languages             6\n",
              "status                      87\n",
              "tagline                  25054\n",
              "title                        6\n",
              "video                        6\n",
              "vote_average                 6\n",
              "vote_count                   6\n",
              "dtype: int64"
            ]
          },
          "metadata": {
            "tags": []
          },
          "execution_count": 8
        }
      ]
    },
    {
      "cell_type": "code",
      "metadata": {
        "id": "UdS0C8t_bKNZ"
      },
      "source": [
        "movie_metadata_changed.drop(['belongs_to_collection', 'homepage', 'tagline'], axis=1, inplace=True)"
      ],
      "execution_count": null,
      "outputs": []
    },
    {
      "cell_type": "code",
      "metadata": {
        "colab": {
          "base_uri": "https://localhost:8080/"
        },
        "id": "1naeYZ6Fd_ZM",
        "outputId": "4e432ca3-0887-4aff-e13f-eb2f6b0d1c06"
      },
      "source": [
        "movie_metadata_changed.genres.head()"
      ],
      "execution_count": null,
      "outputs": [
        {
          "output_type": "execute_result",
          "data": {
            "text/plain": [
              "0    [{'id': 16, 'name': 'Animation'}, {'id': 35, '...\n",
              "1    [{'id': 12, 'name': 'Adventure'}, {'id': 14, '...\n",
              "2    [{'id': 10749, 'name': 'Romance'}, {'id': 35, ...\n",
              "3    [{'id': 35, 'name': 'Comedy'}, {'id': 18, 'nam...\n",
              "4                       [{'id': 35, 'name': 'Comedy'}]\n",
              "Name: genres, dtype: object"
            ]
          },
          "metadata": {
            "tags": []
          },
          "execution_count": 12
        }
      ]
    },
    {
      "cell_type": "code",
      "metadata": {
        "id": "wpHquXbYbKNZ",
        "colab": {
          "base_uri": "https://localhost:8080/"
        },
        "outputId": "634afe34-e345-49a3-a4d2-e329e1ccaee4"
      },
      "source": [
        "%time\n",
        "\n",
        "def genre(row):    \n",
        "    import re \n",
        "    rows = row[1:-1]    \n",
        "    matches = re.findall(r\"\\'name\\'..\\'\\w+\\'\", rows)\n",
        "    genre = \",\".join([i.split(':')[1].replace(\"'\",\"\") for i in matches])    \n",
        "    return genre\n",
        "\n",
        "movie_metadata_changed['genres'] = movie_metadata_changed['genres'].apply(genre)"
      ],
      "execution_count": null,
      "outputs": [
        {
          "output_type": "stream",
          "text": [
            "CPU times: user 4 µs, sys: 0 ns, total: 4 µs\n",
            "Wall time: 7.87 µs\n"
          ],
          "name": "stdout"
        }
      ]
    },
    {
      "cell_type": "code",
      "metadata": {
        "colab": {
          "base_uri": "https://localhost:8080/"
        },
        "id": "lagW7F4teI5i",
        "outputId": "79e44335-0502-44b4-e7fc-c132bb3896db"
      },
      "source": [
        "movie_metadata_changed.genres.head()"
      ],
      "execution_count": null,
      "outputs": [
        {
          "output_type": "execute_result",
          "data": {
            "text/plain": [
              "0      Animation, Comedy, Family\n",
              "1     Adventure, Fantasy, Family\n",
              "2                Romance, Comedy\n",
              "3         Comedy, Drama, Romance\n",
              "4                         Comedy\n",
              "Name: genres, dtype: object"
            ]
          },
          "metadata": {
            "tags": []
          },
          "execution_count": 14
        }
      ]
    },
    {
      "cell_type": "code",
      "metadata": {
        "id": "lM0kIvoWbKNZ"
      },
      "source": [
        "# handle a case where there is no id for the movie \n",
        "\n",
        "def change_type_id(x):\n",
        "    try:\n",
        "        return int(x)\n",
        "    except ValueError:\n",
        "        return None\n",
        "    \n",
        "movie_metadata_changed['id'] = movie_metadata_changed['id'].apply(change_type_id)"
      ],
      "execution_count": null,
      "outputs": []
    },
    {
      "cell_type": "code",
      "metadata": {
        "id": "xlRprQZhbKNZ"
      },
      "source": [
        "movie_data_merge = movie_metadata_changed.merge(credits, on='id')"
      ],
      "execution_count": null,
      "outputs": []
    },
    {
      "cell_type": "markdown",
      "metadata": {
        "id": "MmyTuI0FbKNZ"
      },
      "source": [
        "find a new feature called , weighted rating for a movie \n",
        "\n",
        "W_r = (v/(v+m)*R + (m/(v+m)*C\n",
        "\n",
        "R is the mean rating\n",
        "C is the mean vote for the movies\n",
        "v is the number of votes for the movie \n",
        "m is the minimum number of votes to be needed to be in the top chart "
      ]
    },
    {
      "cell_type": "code",
      "metadata": {
        "id": "TVWyobuwbKNZ"
      },
      "source": [
        "%timeit \n",
        "\n",
        "m = movie_data_merge.vote_count.quantile(0.9)\n",
        "C = movie_data_merge.vote_average.mean()\n",
        "R = movie_data_merge['vote_average']    \n",
        "v = movie_data_merge['vote_count']       \n",
        "'''\n",
        "def weighted_rating(row, m=m, C=C):\n",
        "    R = movie_data_merge['vote_average']    \n",
        "    v = movie_data_merge['vote_count']       \n",
        "    \n",
        "    return (v/(v+m)*R) + (m/(v+m)*C)                      \n",
        "'''\n",
        "movie_data_merge['score'] = (v/(v+m)*R) + (m/(v+m)*C)"
      ],
      "execution_count": null,
      "outputs": []
    },
    {
      "cell_type": "code",
      "metadata": {
        "id": "pRLiCQyVbKNZ",
        "colab": {
          "base_uri": "https://localhost:8080/",
          "height": 201
        },
        "outputId": "6992d874-65ca-4b8f-ded1-f85ebdb4bd69"
      },
      "source": [
        "%timeit\n",
        "\n",
        "movie_data_merge = movie_data_merge.sort_values(by='score',ascending=False)\n",
        "movie_data_merge[['title', 'vote_count', 'vote_average', 'score']].head()"
      ],
      "execution_count": null,
      "outputs": [
        {
          "output_type": "execute_result",
          "data": {
            "text/html": [
              "<div>\n",
              "<style scoped>\n",
              "    .dataframe tbody tr th:only-of-type {\n",
              "        vertical-align: middle;\n",
              "    }\n",
              "\n",
              "    .dataframe tbody tr th {\n",
              "        vertical-align: top;\n",
              "    }\n",
              "\n",
              "    .dataframe thead th {\n",
              "        text-align: right;\n",
              "    }\n",
              "</style>\n",
              "<table border=\"1\" class=\"dataframe\">\n",
              "  <thead>\n",
              "    <tr style=\"text-align: right;\">\n",
              "      <th></th>\n",
              "      <th>title</th>\n",
              "      <th>vote_count</th>\n",
              "      <th>vote_average</th>\n",
              "      <th>score</th>\n",
              "    </tr>\n",
              "  </thead>\n",
              "  <tbody>\n",
              "    <tr>\n",
              "      <th>314</th>\n",
              "      <td>The Shawshank Redemption</td>\n",
              "      <td>8358.0</td>\n",
              "      <td>8.5</td>\n",
              "      <td>8.445870</td>\n",
              "    </tr>\n",
              "    <tr>\n",
              "      <th>837</th>\n",
              "      <td>The Godfather</td>\n",
              "      <td>6024.0</td>\n",
              "      <td>8.5</td>\n",
              "      <td>8.425439</td>\n",
              "    </tr>\n",
              "    <tr>\n",
              "      <th>10345</th>\n",
              "      <td>Dilwale Dulhania Le Jayenge</td>\n",
              "      <td>661.0</td>\n",
              "      <td>9.1</td>\n",
              "      <td>8.421458</td>\n",
              "    </tr>\n",
              "    <tr>\n",
              "      <th>12525</th>\n",
              "      <td>The Dark Knight</td>\n",
              "      <td>12269.0</td>\n",
              "      <td>8.3</td>\n",
              "      <td>8.265477</td>\n",
              "    </tr>\n",
              "    <tr>\n",
              "      <th>2854</th>\n",
              "      <td>Fight Club</td>\n",
              "      <td>9678.0</td>\n",
              "      <td>8.3</td>\n",
              "      <td>8.256385</td>\n",
              "    </tr>\n",
              "  </tbody>\n",
              "</table>\n",
              "</div>"
            ],
            "text/plain": [
              "                             title  vote_count  vote_average     score\n",
              "314       The Shawshank Redemption      8358.0           8.5  8.445870\n",
              "837                  The Godfather      6024.0           8.5  8.425439\n",
              "10345  Dilwale Dulhania Le Jayenge       661.0           9.1  8.421458\n",
              "12525              The Dark Knight     12269.0           8.3  8.265477\n",
              "2854                    Fight Club      9678.0           8.3  8.256385"
            ]
          },
          "metadata": {
            "tags": []
          },
          "execution_count": 16
        }
      ]
    },
    {
      "cell_type": "code",
      "metadata": {
        "id": "wp9sNp3CbKNZ",
        "colab": {
          "base_uri": "https://localhost:8080/"
        },
        "outputId": "8dd44479-beb7-4292-b807-73add7845c76"
      },
      "source": [
        "movie_data_merge.columns"
      ],
      "execution_count": null,
      "outputs": [
        {
          "output_type": "execute_result",
          "data": {
            "text/plain": [
              "Index(['adult', 'budget', 'genres', 'id', 'imdb_id', 'original_language',\n",
              "       'original_title', 'overview', 'popularity', 'poster_path',\n",
              "       'production_companies', 'production_countries', 'release_date',\n",
              "       'revenue', 'runtime', 'spoken_languages', 'status', 'title', 'video',\n",
              "       'vote_average', 'vote_count', 'cast', 'crew', 'score'],\n",
              "      dtype='object')"
            ]
          },
          "metadata": {
            "tags": []
          },
          "execution_count": 20
        }
      ]
    },
    {
      "cell_type": "code",
      "metadata": {
        "id": "oVPageSsbKNa"
      },
      "source": [
        "from sklearn.feature_extraction.text import TfidfVectorizer\n",
        "from sklearn.feature_extraction.text import CountVectorizer\n",
        "from nltk.corpus import stopwords\n",
        "from sklearn import preprocessing"
      ],
      "execution_count": null,
      "outputs": []
    },
    {
      "cell_type": "code",
      "metadata": {
        "id": "Rh_0p5odbKNa"
      },
      "source": [
        "tfidf = TfidfVectorizer(stop_words='english')\n",
        "movie_data_merge['overview'] = movie_data_merge['overview'].fillna('')\n",
        "tfidf_matrix = tfidf.fit_transform(movie_data_merge['overview'])"
      ],
      "execution_count": null,
      "outputs": []
    },
    {
      "cell_type": "code",
      "metadata": {
        "id": "mZQZ-5R4Q1NU"
      },
      "source": [
        "vectorizer = CountVectorizer(stop_words='english')\n",
        "vectorizer_matrix = vectorizer.fit_transform(movie_data_merge['overview'])"
      ],
      "execution_count": null,
      "outputs": []
    },
    {
      "cell_type": "code",
      "metadata": {
        "colab": {
          "base_uri": "https://localhost:8080/"
        },
        "id": "T5DGaqVTRV-6",
        "outputId": "653c67df-6244-4c38-fe3a-cc4608dab44c"
      },
      "source": [
        "#run only one method at a time due to memory requirement \n",
        "#cosine_sim1 = np.dot(preprocessing.normalize(vectorizer_matrix, axis=1), preprocessing.normalize(vectorizer_matrix, axis=1).T)"
      ],
      "execution_count": null,
      "outputs": [
        {
          "output_type": "stream",
          "text": [
            "CPU times: user 3 µs, sys: 0 ns, total: 3 µs\n",
            "Wall time: 7.63 µs\n"
          ],
          "name": "stdout"
        }
      ]
    },
    {
      "cell_type": "code",
      "metadata": {
        "id": "O96rx9u5bKNa",
        "colab": {
          "base_uri": "https://localhost:8080/"
        },
        "outputId": "7f330257-1ce0-4343-b311-39564caaf4e1"
      },
      "source": [
        "%time\n",
        "cosine_sim2 = np.dot(preprocessing.normalize(tfidf_matrix, axis=1), preprocessing.normalize(tfidf_matrix, axis=1).T)"
      ],
      "execution_count": null,
      "outputs": [
        {
          "output_type": "stream",
          "text": [
            "CPU times: user 2 µs, sys: 0 ns, total: 2 µs\n",
            "Wall time: 5.01 µs\n"
          ],
          "name": "stdout"
        }
      ]
    },
    {
      "cell_type": "code",
      "metadata": {
        "id": "dZurDiKAbKNa"
      },
      "source": [
        "indices = pd.Series(movie_data_merge.index, index=movie_data_merge['title']).drop_duplicates()"
      ],
      "execution_count": null,
      "outputs": []
    },
    {
      "cell_type": "code",
      "metadata": {
        "id": "iiG87mn2bKNa"
      },
      "source": [
        "def content_recommendation(title, cosine_similarity, indices):\n",
        "    index = indices[title]\n",
        "    cosine_similarity_title = cosine_similarity[index].toarray().tolist()[0]\n",
        "    temp = cosine_similarity[index].toarray().tolist()[0]\n",
        "    temp.sort(reverse=True)\n",
        "    temp = temp[1:11]\n",
        "    movie_indices = [cosine_similarity_title.index(i) for i in temp]\n",
        "    return movie_data_merge['title'].iloc[movie_indices]"
      ],
      "execution_count": null,
      "outputs": []
    },
    {
      "cell_type": "code",
      "metadata": {
        "id": "kxhPojrebKNa",
        "colab": {
          "base_uri": "https://localhost:8080/"
        },
        "outputId": "0f85b80c-5233-4a5b-c856-4e644f876056"
      },
      "source": [
        "recommedation = content_recommendation('Up', cosine_sim2, indices)\n",
        "recommedation.head(10)"
      ],
      "execution_count": null,
      "outputs": [
        {
          "output_type": "execute_result",
          "data": {
            "text/plain": [
              "8550     Man of a Thousand Faces\n",
              "24891            Dead Man's Eyes\n",
              "32073               The Deceased\n",
              "22332     I Heart Monster Movies\n",
              "4316                     Popcorn\n",
              "23475                  Afflicted\n",
              "34736          The Second Circle\n",
              "9543            A Scanner Darkly\n",
              "17987               The Presence\n",
              "35298          World of Tomorrow\n",
              "Name: title, dtype: object"
            ]
          },
          "metadata": {
            "tags": []
          },
          "execution_count": 23
        }
      ]
    },
    {
      "cell_type": "code",
      "metadata": {
        "colab": {
          "base_uri": "https://localhost:8080/"
        },
        "id": "yxXvdUzX30Rv",
        "outputId": "3a353a43-4cf5-495f-decd-a4c621ff78aa"
      },
      "source": [
        "import tensorflow as tf\n",
        "\n",
        "indices = ratings[['userId', 'movieId']].values\n",
        "values = ratings['rating'].values\n",
        "\n",
        "tf.SparseTensor(\n",
        "      indices=indices,\n",
        "      values=values,\n",
        "      dense_shape=[unique_users, movie_data_merge.shape[0]])"
      ],
      "execution_count": null,
      "outputs": [
        {
          "output_type": "execute_result",
          "data": {
            "text/plain": [
              "<tensorflow.python.framework.sparse_tensor.SparseTensor at 0x7f5fe2e32860>"
            ]
          },
          "metadata": {
            "tags": []
          },
          "execution_count": 26
        }
      ]
    }
  ]
}